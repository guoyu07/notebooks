{
 "cells": [
  {
   "cell_type": "code",
   "execution_count": 4,
   "metadata": {
    "collapsed": false
   },
   "outputs": [],
   "source": [
    "from collections import defaultdict\n",
    "import math\n",
    "import string\n",
    "\n",
    "import pandas as pd\n",
    "import numpy as np\n",
    "import matplotlib\n",
    "\n",
    "%matplotlib inline\n",
    "matplotlib.style.use('ggplot')"
   ]
  },
  {
   "cell_type": "markdown",
   "metadata": {},
   "source": [
    "First we count the number of adjacent pair of characters from big blob of text. The text used below is top 100k most common english words taken from https://gist.github.com/h3xx/1976236/raw/bbabb412261386673eff521dddbe1dc815373b1d/wiki-100k.txt"
   ]
  },
  {
   "cell_type": "code",
   "execution_count": 5,
   "metadata": {
    "collapsed": false
   },
   "outputs": [
    {
     "data": {
      "text/plain": [
       "defaultdict(<function __main__.<lambda>.<locals>.<lambda>>,\n",
       "            {' ': 3601,\n",
       "             'a': 515,\n",
       "             'b': 1840,\n",
       "             'c': 2575,\n",
       "             'd': 2132,\n",
       "             'e': 467,\n",
       "             'f': 553,\n",
       "             'g': 1724,\n",
       "             'h': 486,\n",
       "             'i': 3060,\n",
       "             'j': 196,\n",
       "             'k': 694,\n",
       "             'l': 5480,\n",
       "             'm': 2316,\n",
       "             'n': 8550,\n",
       "             'o': 179,\n",
       "             'p': 1605,\n",
       "             'q': 149,\n",
       "             'r': 7168,\n",
       "             's': 3315,\n",
       "             't': 6272,\n",
       "             'u': 1724,\n",
       "             'v': 1203,\n",
       "             'w': 549,\n",
       "             'x': 243,\n",
       "             'y': 976,\n",
       "             'z': 336})"
      ]
     },
     "execution_count": 5,
     "metadata": {},
     "output_type": "execute_result"
    }
   ],
   "source": [
    "alphabet = set(string.ascii_lowercase + ' ')\n",
    "\n",
    "# assume minimum count is 100 (for a super simple smoothing) so we won't have prob = 0\n",
    "counts = defaultdict(lambda: defaultdict(lambda: 100))\n",
    "\n",
    "with open('wiki-100k.txt') as f:\n",
    "    for line in f:\n",
    "        if line.startswith('#'):\n",
    "            continue\n",
    "            \n",
    "        for word in line.strip().lower().split():\n",
    "            prev_char = None\n",
    "            for char in word:\n",
    "                if char not in alphabet:\n",
    "                    continue\n",
    "                if prev_char is None:\n",
    "                    counts[' '][char] += 1\n",
    "                else:\n",
    "                    counts[prev_char][char] += 1\n",
    "                prev_char = char\n",
    "            counts[prev_char][' '] += 1\n",
    "counts['a']"
   ]
  },
  {
   "cell_type": "code",
   "execution_count": 6,
   "metadata": {
    "collapsed": false
   },
   "outputs": [
    {
     "data": {
      "text/plain": [
       "<matplotlib.axes._subplots.AxesSubplot at 0x111ff1160>"
      ]
     },
     "execution_count": 6,
     "metadata": {},
     "output_type": "execute_result"
    },
    {
     "data": {
      "image/png": "[encoded data removed]",
      "text/plain": [
       "<matplotlib.figure.Figure at 0x112071c50>"
      ]
     },
     "metadata": {},
     "output_type": "display_data"
    }
   ],
   "source": [
    "# probability of one char after the other\n",
    "probs = defaultdict(dict)\n",
    "for char in alphabet:\n",
    "    # normalize so we have sum(probs) = 1\n",
    "    total = sum(counts[char][c] for c in alphabet)\n",
    "    for next_char in alphabet:\n",
    "        probs[char][next_char] = counts[char][next_char] / total\n",
    "\n",
    "pd.Series(probs['a']).plot(kind='barh')"
   ]
  },
  {
   "cell_type": "code",
   "execution_count": 7,
   "metadata": {
    "collapsed": false
   },
   "outputs": [
    {
     "name": "stdout",
     "output_type": "stream",
     "text": [
      "-3.6939779797379515\n"
     ]
    }
   ],
   "source": [
    "# use log(prob) because multiplying can leads to underflow\n",
    "# https://squarecog.wordpress.com/2009/01/10/dealing-with-underflow-in-joint-probability-calculations/\n",
    "log_probs = defaultdict(dict)\n",
    "for char in alphabet:\n",
    "    for next_char in alphabet:\n",
    "        log_probs[char][next_char] = math.log(probs[char][next_char])\n",
    "\n",
    "\n",
    "def score(word):\n",
    "    score = 0\n",
    "    for i in range(len(word) - 1):\n",
    "        # log(p(ab)) = log(p(a) * p(b)) = log(pa(a)) + log(p(b))\n",
    "        score += log_probs[word[i]][word[i+1]]\n",
    "    score += log_probs[' '][word[0]]\n",
    "    score += log_probs[word[0]][' ']\n",
    "    return score / len(word)\n",
    "\n",
    "print(score('adatao'))"
   ]
  },
  {
   "cell_type": "code",
   "execution_count": 8,
   "metadata": {
    "collapsed": false,
    "scrolled": true
   },
   "outputs": [
    {
     "data": {
      "text/plain": [
       "<matplotlib.axes._subplots.AxesSubplot at 0x11218db38>"
      ]
     },
     "execution_count": 8,
     "metadata": {},
     "output_type": "execute_result"
    },
    {
     "data": {
      "image/png": "[encoded data removed]",
      "text/plain": [
       "<matplotlib.figure.Figure at 0x112191470>"
      ]
     },
     "metadata": {},
     "output_type": "display_data"
    }
   ],
   "source": [
    "# test our scoring function with some \"good\" and \"bad\" names\n",
    "goods = ['american', 'apple', 'alphabet', 'apache', 'automatic', 'advanced']\n",
    "bads = ['asaxa', 'asdx', 'asvaxw', 'apssfse', 'axbfa', 'awgsgpasdad']\n",
    "\n",
    "good_scores = [score(name) for name in goods]\n",
    "bad_scores = [score(name) for name in bads]\n",
    "\n",
    "pd.DataFrame({'good name': good_scores, 'bad name': bad_scores}).plot(kind='box')"
   ]
  },
  {
   "cell_type": "code",
   "execution_count": 9,
   "metadata": {
    "collapsed": false
   },
   "outputs": [
    {
     "name": "stdout",
     "output_type": "stream",
     "text": [
      "['aa', 'ab', 'ac', 'ad', 'ae', 'af', 'ag', 'ah', 'ai', 'aj', 'ak', 'al', 'am', 'an', 'ao', 'ap', 'aq', 'ar', 'as', 'at', 'au', 'av', 'aw', 'ax', 'ay', 'az']\n"
     ]
    }
   ],
   "source": [
    "# let's generate all possible string with given length and score them all\n",
    "\n",
    "def gen_string(length=1):\n",
    "    if length <= 0:\n",
    "        yield ''\n",
    "    else:\n",
    "        for c in string.ascii_lowercase:\n",
    "            for name in gen_string(length - 1):\n",
    "                yield c + name\n",
    "\n",
    "def gen_name(min_len=4, max_len=4):\n",
    "    assert max_len >= min_len\n",
    "    for n in range(min_len - 1, max_len):\n",
    "        for name in gen_string(n):\n",
    "            yield 'a' + name\n",
    "        \n",
    "print(list(gen_name(2,2)))"
   ]
  },
  {
   "cell_type": "code",
   "execution_count": 10,
   "metadata": {
    "collapsed": false
   },
   "outputs": [
    {
     "data": {
      "text/plain": [
       "['arerer',\n",
       " 'antere',\n",
       " 'angere',\n",
       " 'arerin',\n",
       " 'atinte',\n",
       " 'areren',\n",
       " 'aterer',\n",
       " 'antint',\n",
       " 'areres',\n",
       " 'alerer']"
      ]
     },
     "execution_count": 10,
     "metadata": {},
     "output_type": "execute_result"
    }
   ],
   "source": [
    "import heapq\n",
    "\n",
    "heapq.nlargest(10, gen_name(4, 6), key=score)"
   ]
  },
  {
   "cell_type": "markdown",
   "metadata": {},
   "source": [
    "A brute force attack turn out to be very slow. At O(26^n), a 8 chars length will have to score 8,031,810,176 possible candidates. However, we already have the probabilities of going from one char to the next, so let's use it to generate name _probablistically_"
   ]
  },
  {
   "cell_type": "code",
   "execution_count": 11,
   "metadata": {
    "collapsed": false
   },
   "outputs": [
    {
     "data": {
      "text/plain": [
       "['anoinet',\n",
       " 'aleopede',\n",
       " 'ant',\n",
       " 'ambiarpp',\n",
       " 'als',\n",
       " 'agrnouso',\n",
       " 'ant',\n",
       " 'arelises',\n",
       " 'aows',\n",
       " 'aboyicki']"
      ]
     },
     "execution_count": 11,
     "metadata": {},
     "output_type": "execute_result"
    }
   ],
   "source": [
    "choices = list(alphabet)\n",
    "def gen_name_prob(iteration=1000, max_len=8, min_len=3):\n",
    "    name = 'a'\n",
    "    current_char = 'a'\n",
    "    while len(name) < max_len:\n",
    "        next_char_probs = [probs[current_char][c] for c in choices]\n",
    "        next_char = np.random.choice(choices, p=next_char_probs)\n",
    "        if next_char == ' ':\n",
    "            if len(name) >= min_len:\n",
    "                return name\n",
    "        else:\n",
    "            name += next_char\n",
    "            current_char = next_char\n",
    "    else:\n",
    "        return name\n",
    "                \n",
    "[gen_name_prob() for _ in range(10)]"
   ]
  },
  {
   "cell_type": "markdown",
   "metadata": {
    "collapsed": false
   },
   "source": [
    "Also, let's use all 4 powerful cores of my laptop to find a good name instead of one."
   ]
  },
  {
   "cell_type": "code",
   "execution_count": 12,
   "metadata": {
    "collapsed": false
   },
   "outputs": [
    {
     "data": {
      "text/plain": [
       "[('arererer', -2.2906554623729822),\n",
       " ('antintin', -2.293573712421719),\n",
       " ('arererin', -2.3100444529309083),\n",
       " ('alererer', -2.3210642734977975),\n",
       " ('antinere', -2.346031451396366),\n",
       " ('arederer', -2.3569891952506414),\n",
       " ('atentere', -2.3589849911805887),\n",
       " ('alerinte', -2.366373622274666),\n",
       " ('atestere', -2.373966995248396),\n",
       " ('angering', -2.3797118845582643)]"
      ]
     },
     "execution_count": 12,
     "metadata": {},
     "output_type": "execute_result"
    }
   ],
   "source": [
    "import concurrent.futures\n",
    "import itertools\n",
    "\n",
    "def top_prob(_):\n",
    "    return set(heapq.nlargest(100, (gen_name_prob() for _ in range(100000)), key=score))\n",
    "    \n",
    "pool = concurrent.futures.ProcessPoolExecutor(4)\n",
    "candidates = pool.map(top_prob, range(4))\n",
    "tops = list(set(heapq.nlargest(100, itertools.chain.from_iterable(candidates), key=score)))[:10]\n",
    "sorted([(name, score(name)) for name in tops], key=lambda x: x[1], reverse=True)"
   ]
  },
  {
   "cell_type": "code",
   "execution_count": null,
   "metadata": {
    "collapsed": true
   },
   "outputs": [],
   "source": []
  }
 ],
 "metadata": {
  "kernelspec": {
   "display_name": "Python 3",
   "language": "python",
   "name": "python3"
  },
  "language_info": {
   "codemirror_mode": {
    "name": "ipython",
    "version": 3
   },
   "file_extension": ".py",
   "mimetype": "text/x-python",
   "name": "python",
   "nbconvert_exporter": "python",
   "pygments_lexer": "ipython3",
   "version": "3.5.0"
  }
 },
 "nbformat": 4,
 "nbformat_minor": 0
}
